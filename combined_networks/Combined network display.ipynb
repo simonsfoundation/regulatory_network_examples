{
 "cells": [
  {
   "cell_type": "markdown",
   "metadata": {},
   "source": [
    "## Displaying two networks in one using line style annotations\n",
    "\n",
    "The following script sequence loads two gene regulatory network files\n",
    "into a single network display\n",
    "and adds line style annotations and colors which differentiate edges only occurring in\n",
    "network1, edges occurring only in network2, and edges occurring in both\n",
    "networks.\n",
    "\n",
    "It should be possible to extend this approach for 3 or more network\n",
    "combinations using more colors and line patterns.\n",
    "\n",
    "First we add a utility for reading in the data from the files as a list\n",
    "of dictionaries.\n",
    "\n",
    "### Reading the data"
   ]
  },
  {
   "cell_type": "code",
   "execution_count": null,
   "metadata": {},
   "outputs": [],
   "source": [
    "def load_dictionaries_from_file(f, limit=None, cutoff=None):\n",
    "    \"\"\"\n",
    "    Load tab separated file into dictionary mapping edge --> dict\n",
    "    \"\"\"\n",
    "    headers = f.readline().split()\n",
    "    result = {}\n",
    "    while True:\n",
    "        line = f.readline()\n",
    "        if not line:\n",
    "            break\n",
    "        values = line.split()\n",
    "        dictionary = {h: v for (h, v) in zip(headers, values)}\n",
    "        beta = float(dictionary['beta.sign.sum'])\n",
    "        dictionary[\"beta\"] = beta\n",
    "        # ignore if beta below cutoff\n",
    "        if abs(beta) < cutoff:\n",
    "            continue\n",
    "        edge = (dictionary[\"regulator\"], dictionary[\"target\"])\n",
    "        result[edge] = dictionary\n",
    "        if limit and len(result) >= limit:\n",
    "            break\n",
    "    return result\n",
    "\n",
    "def load_file(filename, limit=None):\n",
    "    return load_dictionaries_from_file(open(filename), limit=limit)\n",
    "\n",
    "# simple test case usage:\n",
    "import StringIO\n",
    "buffer = \"\"\"\n",
    "regulator\ttarget\tbeta.sign.sum\tbeta.non.zero\tvar.exp.median\tcombined_confidences\tprior\n",
    "BSU24520\tBSU30750\t-20.0\t20.0\t0.99724170989978111\t0.99999556004762358\t-1.0\n",
    "BSU22440\tBSU30200\t-20.0\t20.0\t0.99649123580861043\t0.99998929857632357\t-1.0\n",
    "\"\"\".strip()\n",
    "f = StringIO.StringIO(buffer)\n",
    "example_dicts = load_dictionaries_from_file(f, limit=1)\n",
    "print example_dicts"
   ]
  },
  {
   "cell_type": "markdown",
   "metadata": {},
   "source": [
    "## Adding annotations\n",
    "Above illustrates how each line of the file read becomes a dictionary in a list of dictionsries.\n",
    "We extend these dictionaries to add line styles using the special attributes `stroke`\n",
    "and `stroke-dasharray` in the function `add_line_styles`:"
   ]
  },
  {
   "cell_type": "code",
   "execution_count": null,
   "metadata": {},
   "outputs": [],
   "source": [
    "def add_line_styles(edge_to_dict, negative_color, positive_color, dasharray):\n",
    "    \"add line styles and colors for edges in dictionary sequence.\"\n",
    "    for dictionary in edge_to_dict.values():\n",
    "        beta = dictionary[\"beta\"]\n",
    "        dictionary[\"stroke-dasharray\"] = dasharray\n",
    "        if beta < 0:\n",
    "            dictionary['stroke'] = negative_color\n",
    "        else:\n",
    "            dictionary['stroke'] = positive_color\n",
    "    return edge_to_dict\n",
    "\n",
    "print add_line_styles(example_dicts, \"magenta\", \"cyan\", \"2,2,3\")"
   ]
  },
  {
   "cell_type": "markdown",
   "metadata": {},
   "source": [
    "## Reading the files\n",
    "\n",
    "Using these functions read in the two networks, using dotted lines in cyan/magenta for the first network\n",
    "and dash-dotted lines in blue/orange for the second network."
   ]
  },
  {
   "cell_type": "code",
   "execution_count": null,
   "metadata": {},
   "outputs": [],
   "source": [
    "# load network files and add annotations\n",
    "dicts1 = load_file('./network1.tsv', limit=4000)\n",
    "dicts1 = add_line_styles(dicts1, \"magenta\", \"cyan\", \"1,1\")\n",
    "dicts2 = load_file('./network2.tsv', limit=4000)\n",
    "dicts2 = add_line_styles(dicts2, \"orange\", \"blue\", \"3,3,1,1\") #edge_to_dict, negative_color, positive_color, dasharray"
   ]
  },
  {
   "cell_type": "code",
   "execution_count": null,
   "metadata": {},
   "outputs": [],
   "source": [
    "#?add_line_styles()"
   ]
  },
  {
   "cell_type": "markdown",
   "metadata": {},
   "source": [
    "## Loading the graph into a network display\n",
    "\n",
    "Load the network data into a graph structure and change annotations\n",
    "for shared edges.  Here shared edges will have solid lines in green/red."
   ]
  },
  {
   "cell_type": "code",
   "execution_count": null,
   "metadata": {},
   "outputs": [],
   "source": [
    "from jp_gene_viz import dGraph\n",
    "graph = dGraph.WGraph()\n",
    "for edge in dicts1:\n",
    "    dictionary = dicts1[edge]\n",
    "    if edge in dicts2:\n",
    "        # change annotations for shared edges\n",
    "        del dictionary[\"stroke-dasharray\"]\n",
    "        beta = dictionary[\"beta\"]\n",
    "        if beta < 0:\n",
    "            dictionary['stroke'] = \"red\"  # negative_color\n",
    "        else:\n",
    "            dictionary['stroke'] = \"green\"  # positive_color\n",
    "    (source, dest) = edge\n",
    "    graph.add_edge(source, dest, dictionary[\"beta\"], dictionary)\n",
    "for edge in dicts2:\n",
    "    if edge not in dicts1:\n",
    "        dictionary = dicts2[edge]\n",
    "        (source, dest) = edge\n",
    "        graph.add_edge(source, dest, dictionary[\"beta\"], dictionary)"
   ]
  },
  {
   "cell_type": "markdown",
   "metadata": {},
   "source": [
    "Load the annotated graph into a network display and display the network widget."
   ]
  },
  {
   "cell_type": "code",
   "execution_count": null,
   "metadata": {},
   "outputs": [],
   "source": [
    "from jp_gene_viz import dNetwork, dLayout\n",
    "dNetwork.load_javascript_support()"
   ]
  },
  {
   "cell_type": "code",
   "execution_count": null,
   "metadata": {},
   "outputs": [],
   "source": [
    "# Load the graph into a network display\n",
    "network = dNetwork.NetworkDisplay()\n",
    "#positions = dLayout.group_layout(graph)[0]  # step around a bug here...\n",
    "positions = dLayout.spoke_layout.spoke_layout(graph)[0]\n",
    "network.load_data(graph, positions)"
   ]
  },
  {
   "cell_type": "code",
   "execution_count": null,
   "metadata": {},
   "outputs": [],
   "source": [
    "network.show()"
   ]
  },
  {
   "cell_type": "code",
   "execution_count": null,
   "metadata": {},
   "outputs": [],
   "source": [
    "print \"total edges\", len(set(dicts1).union(set(dicts2)))"
   ]
  },
  {
   "cell_type": "code",
   "execution_count": null,
   "metadata": {},
   "outputs": [],
   "source": [
    "print \"shared edges\", len(set(dicts1) & set(dicts2))"
   ]
  },
  {
   "cell_type": "markdown",
   "metadata": {},
   "source": [
    "Focus on \"bsu257*\" and neighbors."
   ]
  },
  {
   "cell_type": "code",
   "execution_count": null,
   "metadata": {},
   "outputs": [],
   "source": [
    "network.pattern_text.value = \"ylaC\"\n",
    "network.match_click()\n",
    "network.labels_button.value = True\n",
    "network.expand_click()\n",
    "network.layout_click()"
   ]
  },
  {
   "cell_type": "code",
   "execution_count": null,
   "metadata": {},
   "outputs": [],
   "source": [
    "network.labels_button.value"
   ]
  },
  {
   "cell_type": "code",
   "execution_count": null,
   "metadata": {},
   "outputs": [],
   "source": []
  }
 ],
 "metadata": {
  "kernelspec": {
   "display_name": "Python 2",
   "language": "python",
   "name": "python2"
  },
  "language_info": {
   "codemirror_mode": {
    "name": "ipython",
    "version": 2
   },
   "file_extension": ".py",
   "mimetype": "text/x-python",
   "name": "python",
   "nbconvert_exporter": "python",
   "pygments_lexer": "ipython2",
   "version": "2.7.13"
  }
 },
 "nbformat": 4,
 "nbformat_minor": 2
}
