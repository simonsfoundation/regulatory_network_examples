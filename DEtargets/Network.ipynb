{
 "cells": [
  {
   "cell_type": "markdown",
   "metadata": {},
   "source": [
    "# The Network Widget\n",
    "\n",
    "The following cells illustrate how to create a visualization for a\n",
    "transcriptional regulatory network using a data file in tab separated values\n",
    "format.\n",
    "\n",
    "Please see [the network overview documentation notebook](../doc/dNetwork%20widget%20overview.ipynb)\n",
    "for a description of the features of this widget."
   ]
  },
  {
   "cell_type": "code",
   "execution_count": 1,
   "metadata": {
    "collapsed": true
   },
   "outputs": [],
   "source": [
    "# Uncomment to run without install in the Binder service.\n",
    "import sys\n",
    "if \"..\" not in sys.path:\n",
    "    sys.path.append(\"..\")"
   ]
  },
  {
   "cell_type": "code",
   "execution_count": 2,
   "metadata": {
    "collapsed": false
   },
   "outputs": [
    {
     "data": {
      "application/javascript": [
       "\n",
       "// This is the javascript side to match js_proxy.py.\n",
       "// See js_proxy.py for an explanation of the command transfer\n",
       "// protocol\n",
       "\n",
       "// imitating ipywidgets/docs/source/examples/Custom Widget - Hello World.ipynb\n",
       "\n",
       "//require([\"widgets/js/widget\", \"widgets/js/manager\", \"underscore\", \"jquery\"\n",
       "//], function(widget, manager, _, $) {\n",
       "\n",
       "require.undef(\"JSProxy\");\n",
       "\n",
       "define(\"JSProxy\", [\"jupyter-js-widgets\"], function(widgets) {\n",
       "\n",
       "    var JSProxyView = widgets.DOMWidgetView.extend({\n",
       "\n",
       "        render: function() {\n",
       "            var that = this;\n",
       "            that.on(\"displayed\", function() {\n",
       "                that.update();\n",
       "            });\n",
       "            // Wrap $el as a proper jQuery object\n",
       "            that.$$el = $(that.$el);\n",
       "            // \"new\" keyword emulation\n",
       "            // http://stackoverflow.com/questions/17342497/dynamically-control-arguments-while-creating-objects-in-javascript\n",
       "            that.$$el.New = function(klass, args) {\n",
       "                var obj = Object.create(klass.prototype);\n",
       "                return klass.apply(obj, args) || obj;\n",
       "            };\n",
       "\n",
       "            // fix key bindings for wayward element.\n",
       "            // XXXX This is a bit of a hack that may not be needed in future\n",
       "            // Jupyter releases.\n",
       "            that.$$el.Fix = function(element) {\n",
       "                debugger;\n",
       "                that.model.widget_manager.keyboard_manager.register_events(element);\n",
       "            };\n",
       "        },\n",
       "\n",
       "        update: function(options) {\n",
       "            var that = this;\n",
       "            var commands = that.model.get(\"commands\");\n",
       "            if (commands.length >= 2) {\n",
       "                var command_counter = commands[0];\n",
       "                var command_list = commands[1];\n",
       "                var level = commands[2];\n",
       "                level = that.check_level(level);\n",
       "                var results = [];\n",
       "                _.each(command_list, function(command,i) {\n",
       "                    var result = that.execute_command(command);\n",
       "                    results[i] = that.json_safe(result, level);\n",
       "                });\n",
       "                that.model.set(\"commands\", []);\n",
       "                that.model.set(\"results\", [command_counter, results])\n",
       "                that.touch();\n",
       "            }\n",
       "        },\n",
       "\n",
       "        execute_command: function(command) {\n",
       "            var that = this;\n",
       "            var result = command;\n",
       "            if ($.isArray(command)) {\n",
       "                var indicator = command[0];\n",
       "                var remainder = command.slice();\n",
       "                remainder.shift();\n",
       "                if (indicator == \"element\") {\n",
       "                    // Make sure the element is wrapped as a proper JQuery(UI) object\n",
       "                    if (!that.$$el) {\n",
       "                        that.$$el = $(that.$el);\n",
       "                    }\n",
       "                    result = that.$$el;\n",
       "                } else if (indicator == \"window\") {\n",
       "                    result = window;\n",
       "                } else if (indicator == \"method\") {\n",
       "                    var target_desc = remainder.shift();\n",
       "                    var target = that.execute_command(target_desc);\n",
       "                    var name = remainder.shift();\n",
       "                    var args = remainder.map(that.execute_command, that);\n",
       "                    var method = target[name];\n",
       "                    if (method) {\n",
       "                        result = method.apply(target, args);\n",
       "                    } else {\n",
       "                        result = \"In \" + target + \" no such method \" + name;\n",
       "                    }\n",
       "                } else if (indicator == \"function\") {\n",
       "                    var function_desc = remainder.shift();\n",
       "                    var function_value = that.execute_command(function_desc);\n",
       "                    var args = remainder.map(that.execute_command, that);\n",
       "                    // Use \"that\" as the \"this\" value for function values?\n",
       "                    result = function_value.apply(that, args);\n",
       "                } else if (indicator == \"id\") {\n",
       "                    result = remainder[0];\n",
       "                } else if (indicator == \"list\") {\n",
       "                    result = remainder.map(that.execute_command, that);\n",
       "                } else if (indicator == \"dict\") {\n",
       "                    result = {}\n",
       "                    var desc = remainder[0];\n",
       "                    for (var key in desc) {\n",
       "                        var key_desc = desc[key];\n",
       "                        var val = that.execute_command(key_desc);\n",
       "                        result[key] = val;\n",
       "                    }\n",
       "                } else if (indicator == \"callback\") {\n",
       "                    var identifier = remainder.shift();\n",
       "                    var data = remainder.shift();\n",
       "                    var level = remainder.shift();\n",
       "                    // sanity check\n",
       "                    level = that.check_level(level);\n",
       "                    result = that.callback_factory(identifier, data, level);\n",
       "                } else if (indicator == \"get\") {\n",
       "                    var target_desc = remainder.shift();\n",
       "                    var target = that.execute_command(target_desc);\n",
       "                    var name = remainder.shift();\n",
       "                    try {\n",
       "                        result = target[name];\n",
       "                    } catch(err) {\n",
       "                        result = \"failed to get \"+name+\" from \"+target+\" :: \"+err;\n",
       "                    }\n",
       "                } else if (indicator == \"set\") {\n",
       "                    var target_desc = remainder.shift();\n",
       "                    var target = that.execute_command(target_desc);\n",
       "                    var name = remainder.shift();\n",
       "                    var value_desc = remainder.shift()\n",
       "                    var value = that.execute_command(value_desc);\n",
       "                    target[name] = value;\n",
       "                    result = target;\n",
       "                } else if (indicator == \"null\") {\n",
       "                    target_desc = remainder.shift();\n",
       "                    that.execute_command(target_desc);\n",
       "                    result = null;\n",
       "                } else {\n",
       "                    result = \"Unknown indicator \" + indicator;\n",
       "                }\n",
       "            }\n",
       "            return result;\n",
       "        },\n",
       "\n",
       "        check_level: function(level) {\n",
       "            if ((typeof level) != \"number\" || (level < 0)) {\n",
       "                level = 0;\n",
       "            } else if (level > 5) {\n",
       "                level = 5;\n",
       "            }\n",
       "            return level;\n",
       "        },\n",
       "\n",
       "        callback_factory: function(identifier, data, level) {\n",
       "            var that = this;\n",
       "            // Counter makes sure change is noticed even if other arguments don't change.\n",
       "            var counter = 0;\n",
       "            var handler = function () {\n",
       "                counter += 1;\n",
       "                var payload = that.json_safe([identifier, data, arguments, counter], level + 1);\n",
       "                that.model.set(\"callback_results\", payload);\n",
       "                that.touch();\n",
       "            };\n",
       "            return handler;\n",
       "        },\n",
       "\n",
       "        json_safe: function(val, depth) {\n",
       "            // maybe expand later as need arises\n",
       "            var that = this;\n",
       "            var ty = (typeof val);\n",
       "            if ((ty == \"number\") || (ty == \"string\") || (ty == \"boolean\")) {\n",
       "                return val;\n",
       "            }\n",
       "            if (!val) {\n",
       "                // translate all other falsies to None\n",
       "                return null;\n",
       "            }\n",
       "            if (((typeof depth) == \"number\") && (depth > 0)) {\n",
       "                if ($.isArray(val)) {\n",
       "                    var result = [];\n",
       "                    _.each(val, function(elt, i) {\n",
       "                        var r = that.json_safe(elt, depth-1);\n",
       "                        if (r != null) {\n",
       "                            result[i] = r;\n",
       "                        }\n",
       "                    });\n",
       "                    return result;\n",
       "                } else {\n",
       "                    var result = {};\n",
       "                    for (var key in val) {\n",
       "                        var jv = that.json_safe(val[key], depth-1);\n",
       "                        if (jv != null) {\n",
       "                            result[key] = jv;\n",
       "                        }\n",
       "                    }\n",
       "                    return result;\n",
       "                }\n",
       "            }\n",
       "            return null;\n",
       "        }\n",
       "\n",
       "    });\n",
       "\n",
       "    //manager.WidgetManager.register_widget_view('JSProxyView', JSProxyView);\n",
       "    return {\n",
       "        JSProxyView: JSProxyView\n",
       "    }\n",
       "});\n"
      ],
      "text/plain": [
       "<IPython.core.display.Javascript object>"
      ]
     },
     "metadata": {},
     "output_type": "display_data"
    }
   ],
   "source": [
    "# Import the python implementation.\n",
    "from jp_gene_viz import dNetwork"
   ]
  },
  {
   "cell_type": "code",
   "execution_count": 3,
   "metadata": {
    "collapsed": false
   },
   "outputs": [
    {
     "data": {
      "application/javascript": [
       "\n",
       "// imitating ipywidgets/docs/source/examples/Custom Widget - Hello World.ipynb\n",
       "\n",
       "//require([\"widgets/js/widget\", \"widgets/js/manager\"], function(widget, manager){\n",
       "\n",
       "require.undef(\"SVGCanvas\");\n",
       "\n",
       "define(\"SVGCanvas\", [\"jupyter-js-widgets\"], function(widgets) {\n",
       "    \n",
       "    var svgEventHandlerFactory = function(that) {\n",
       "        var svgEventHandler = function(e) {\n",
       "            // ignore events while there are pending commands.\n",
       "            if (that.model.get(\"command_pending\")) {\n",
       "                return;\n",
       "            }\n",
       "            var target = e.target;\n",
       "            var info = {};\n",
       "            for (var attr in e) {\n",
       "                var val = e[attr];\n",
       "                var ty = (typeof val);\n",
       "                if ((ty == \"number\") ||\n",
       "                    (ty == \"string\") ||\n",
       "                    (ty == \"boolean\")) {\n",
       "                    info[attr] = val;\n",
       "                }\n",
       "            }\n",
       "            info.name = target.ipy_name;\n",
       "            var ept = SVGEventLocation(that, e);\n",
       "            info.svgX = ept.x;\n",
       "            info.svgY = ept.y;\n",
       "            var json = JSON.stringify(info);\n",
       "            that.model.set(\"event\", json);\n",
       "            that.touch();\n",
       "        };\n",
       "        return svgEventHandler;\n",
       "    };\n",
       "\n",
       "    var SVGEventLocation = function(that, e) {\n",
       "        // http://stackoverflow.com/questions/10298658/mouse-position-inside-autoscaled-svg\n",
       "        var pt = that.reference_point;\n",
       "        var svg = that.$svg[0];\n",
       "        pt.x = e.clientX;\n",
       "        pt.y = e.clientY;\n",
       "        return pt.matrixTransform(svg.getScreenCTM().inverse());\n",
       "    }\n",
       "    \n",
       "    var SVGCanvasView = widgets.DOMWidgetView.extend({\n",
       "        \n",
       "        render: function() {\n",
       "            debugger;\n",
       "            var that = this;\n",
       "            var svg = that.svg_elt(\"svg\");\n",
       "            var eventHandler = svgEventHandlerFactory(that);\n",
       "            that.eventHandler = eventHandler;\n",
       "            that.named_elements = {};\n",
       "            svg.ipy_name = \"\";\n",
       "            that.$svg = $(svg);\n",
       "            that.reference_point = svg.createSVGPoint();\n",
       "            svg.setAttribute(\"preserveAspectRatio\", \"none\");\n",
       "            that.$el.append(that.$svg);\n",
       "            that.svg_parameters_changed();\n",
       "            that.commands_changed();\n",
       "            that.start_watch_event();\n",
       "            that.model.on(\"change:commands\", that.commands_changed, that);\n",
       "            that.model.on(\"change:viewBox\", that.svg_parameters_changed, that);\n",
       "            that.model.on(\"change:svg_width\", that.svg_parameters_changed, that);\n",
       "            that.model.on(\"change:svg_height\", that.svg_parameters_changed, that);\n",
       "            that.model.on(\"change:style\", that.svg_parameters_changed, that);\n",
       "            that.model.on(\"change:watch_event\", that.start_watch_event, that);\n",
       "            that.model.on(\"change:unwatch_event\", that.stop_watch_event, that);\n",
       "            that.model.set(\"rendered\", true);\n",
       "            that.touch();\n",
       "        },\n",
       "        \n",
       "        start_watch_event: function() {\n",
       "            var that = this;\n",
       "            var event_types = that.model.get(\"watch_event\");\n",
       "            if (event_types != \"\") {\n",
       "                that.$svg.on(event_types, that.eventHandler);\n",
       "                that.model.set(\"watch_event\", \"\");\n",
       "                that.touch();\n",
       "            }\n",
       "        },\n",
       "        \n",
       "        stop_watch_event: function() {\n",
       "            var that = this;\n",
       "            var event_types = that.model.get(\"unwatch_event\");\n",
       "            if (event_types != \"\") {\n",
       "                that.$svg.off(event_types);\n",
       "                that.model.set(\"watch_event\", \"\");\n",
       "                that.touch();\n",
       "            }\n",
       "        },\n",
       "        \n",
       "        commands_changed: function() {\n",
       "            var that = this;\n",
       "            try {\n",
       "                var svg = that.$svg[0];\n",
       "                var commands_pair = that.get_JSON(\"commands\")\n",
       "                // ignore the counter\n",
       "                var commands = [];\n",
       "                if (commands_pair.length > 0) {\n",
       "                    commands = commands_pair[1];\n",
       "                }\n",
       "                for (var i=0; i<commands.length; i++) {\n",
       "                    var command_dict = commands[i];\n",
       "                    var indicator = command_dict[\"command\"];\n",
       "                    var method = that[\"do_\"+indicator];\n",
       "                    method(that, command_dict);\n",
       "                }\n",
       "            }\n",
       "            finally {\n",
       "                that.model.set(\"command_pending\", false);\n",
       "                that.touch();\n",
       "            }\n",
       "        },\n",
       "\n",
       "        do_fit: function(that, info) {\n",
       "            // fit viewport to bounding box.\n",
       "            var svg = that.$svg[0];\n",
       "            var bbox = svg.getBBox();\n",
       "            var D = {\"width\": bbox.width, \"height\": bbox.height, \"x\": bbox.x, \"y\": bbox.y}\n",
       "            var vbox = \"\" + D.x + \" \" + D.y + \" \" + D.width + \" \" + D.height;\n",
       "            if ((D.width > 0) && (D.height > 0)) {\n",
       "                that.model.set(\"boundingBox\", D);\n",
       "                if (info.changeView) {\n",
       "                    that.model.set(\"viewBox\", vbox);\n",
       "                }\n",
       "                // Element viewBox will be updated later by model change.\n",
       "                that.touch();\n",
       "            }\n",
       "        },\n",
       "        \n",
       "        do_add_element: function (that, info) {\n",
       "            var tag = info.tag;\n",
       "            var name = info.name;\n",
       "            var element = that.svg_elt(tag);\n",
       "            element.ipy_name = name;\n",
       "            var $element = $(element);\n",
       "            that.update_element($element, info);\n",
       "            // add event callbacks\n",
       "            that.$svg.append($element);\n",
       "            that.named_elements[name] = $element;\n",
       "        },\n",
       "        \n",
       "        do_change_element: function (that, info) {\n",
       "            var name = info.name;\n",
       "            var $element = that.named_elements[name];\n",
       "            if ($element) {\n",
       "                that.update_element($element, info);\n",
       "            } else {\n",
       "                console.warn(\"couldn't find element for \"+name);\n",
       "            }\n",
       "        },\n",
       "        \n",
       "        do_delete: function (that, info) {\n",
       "            var names = info.names;\n",
       "            for (var i=0; i<names.length; i++) {\n",
       "                var name = names[i];\n",
       "                var $element = that.named_elements[name];\n",
       "                if ($element) {\n",
       "                    $element.remove();\n",
       "                    delete that.named_elements[name];\n",
       "                }\n",
       "            }\n",
       "        },\n",
       "        \n",
       "        update_element: function($element, info) {\n",
       "            var element = $element[0];\n",
       "            var atts = info.atts;\n",
       "            var style = info.style;\n",
       "            var text = info.text;\n",
       "            if (atts) {\n",
       "                for (var att in atts) {\n",
       "                    element.setAttribute(att, atts[att]);\n",
       "                }\n",
       "            }\n",
       "            if (style) {\n",
       "                for (var styling in style) {\n",
       "                    element.style[styling] = style[styling];\n",
       "                }\n",
       "            }\n",
       "            if (text) {\n",
       "                $element.empty();\n",
       "                var node = document.createTextNode(text);\n",
       "                element.appendChild(node);\n",
       "            }\n",
       "        },\n",
       "        \n",
       "        do_empty: function (that, info) {\n",
       "            that.named_elements = {};\n",
       "            that.$svg.empty();\n",
       "        },\n",
       "        \n",
       "        svg_parameters_changed: function() {\n",
       "            var that = this;\n",
       "            var style_additions = that.get_JSON(\"style\");\n",
       "            var svg = that.$svg[0];\n",
       "            svg.setAttribute(\"viewBox\", that.model.get(\"viewBox\"));\n",
       "            svg.setAttribute(\"width\", that.model.get(\"svg_width\"));\n",
       "            svg.setAttribute(\"height\", that.model.get(\"svg_height\"));\n",
       "            for (var style_attr in style_additions) {\n",
       "                svg.style[style_attr] = style_additions[style_attr];\n",
       "            }\n",
       "        },\n",
       "        \n",
       "        get_JSON: function(name) {\n",
       "            var json = this.model.get(name);\n",
       "            return $.parseJSON(json);\n",
       "        },\n",
       "        \n",
       "        svg_elt: function(kind) {\n",
       "            return document.createElementNS('http://www.w3.org/2000/svg', kind);\n",
       "        }\n",
       "        \n",
       "    });\n",
       "    \n",
       "    //manager.WidgetManager.register_widget_view('SVGCanvasView', SVGCanvasView);\n",
       "    return {\n",
       "        SVGCanvasView: SVGCanvasView\n",
       "    }\n",
       "});\n"
      ],
      "text/plain": [
       "<IPython.core.display.Javascript object>"
      ]
     },
     "metadata": {},
     "output_type": "display_data"
    },
    {
     "data": {
      "application/javascript": [
       "/*\n",
       "jQuery plugin for a color arrow cursor over an element.\n",
       "\n",
       "Based on\n",
       "http://stackoverflow.com/questions/18779354/assign-color-to-mouse-cursor-using-css\n",
       "*/\n",
       "\n",
       "(function ($) {\n",
       "\n",
       "    $.fn.color_cursor = function(color) {\n",
       "        var that = this;\n",
       "        var cvs = document.createElement(\"canvas\");\n",
       "        cvs.height = 16;\n",
       "        cvs.width = 16;\n",
       "        var ctx = cvs.getContext(\"2d\");\n",
       "        ctx.strokeStyle = color;\n",
       "        ctx.lineWidth = 4;\n",
       "        ctx.lineCap = \"round\";\n",
       "        ctx.moveTo(2, 12);\n",
       "        ctx.lineTo(2, 2);\n",
       "        ctx.lineTo(12, 2);\n",
       "        ctx.moveTo(2, 2);\n",
       "        ctx.lineTo(30, 30)    \n",
       "        ctx.stroke();\n",
       "        var url = cvs.toDataURL();\n",
       "        that.css(\"cursor\", \"url(\" + url + '), auto');\n",
       "        return that;\n",
       "    };\n",
       "\n",
       "    $.fn.color_cursor_reset = function () {\n",
       "        this.css(\"cursor\", \"\");\n",
       "        return this;\n",
       "    };\n",
       "\n",
       "    $.fn.color_cursor.example = function (element) {\n",
       "        debugger;\n",
       "        var d = $(\"<div>Cursor should be red over me. Click to reset.</div>\")\n",
       "            .color_cursor(\"red\");\n",
       "        var reset = function() {\n",
       "            d.color_cursor_reset();\n",
       "            d.html(\"Now the cursor should be normal\");\n",
       "        }\n",
       "        d.click(reset);\n",
       "        element.append(d);\n",
       "        return element;\n",
       "    };\n",
       "\n",
       "})(jQuery)\n"
      ],
      "text/plain": [
       "<IPython.core.display.Javascript object>"
      ]
     },
     "metadata": {},
     "output_type": "display_data"
    }
   ],
   "source": [
    "# Load the javascript \"client side\" support logic.\n",
    "dNetwork.load_javascript_support()"
   ]
  },
  {
   "cell_type": "code",
   "execution_count": 4,
   "metadata": {
    "collapsed": false
   },
   "outputs": [
    {
     "name": "stdout",
     "output_type": "stream",
     "text": [
      "('Reading network', 'network.tsv')\n",
      "Computing layout\n",
      "Using fast layout because the network is large.\n",
      "('Saving layout', 'network.tsv.layout.json')\n",
      "Omitting edges, using canvas, and fast layout default because the network is large\n"
     ]
    }
   ],
   "source": [
    "# Load and display the network.\n",
    "N = dNetwork.display_network(\"network.tsv\")\n",
    "N.title_html.value = \"An example regulatory network\""
   ]
  },
  {
   "cell_type": "code",
   "execution_count": 5,
   "metadata": {
    "collapsed": false
   },
   "outputs": [
    {
     "name": "stdout",
     "output_type": "stream",
     "text": [
      "('Reading network', 'network_DEtargets.tsv')\n",
      "Computing layout\n",
      "Using fast layout because the network is large.\n",
      "('Saving layout', 'network_DEtargets.tsv.layout.json')\n",
      "Omitting edges, using canvas, and fast layout default because the network is large\n"
     ]
    }
   ],
   "source": [
    "# Load and display the network.\n",
    "N2 = dNetwork.display_network(\"network_DEtargets.tsv\")\n",
    "N2.title_html.value = \"An example regulatory network\""
   ]
  },
  {
   "cell_type": "code",
   "execution_count": null,
   "metadata": {
    "collapsed": true
   },
   "outputs": [],
   "source": []
  }
 ],
 "metadata": {
  "kernelspec": {
   "display_name": "Python 2",
   "language": "python",
   "name": "python2"
  },
  "language_info": {
   "codemirror_mode": {
    "name": "ipython",
    "version": 2
   },
   "file_extension": ".py",
   "mimetype": "text/x-python",
   "name": "python",
   "nbconvert_exporter": "python",
   "pygments_lexer": "ipython2",
   "version": "2.7.13"
  },
  "widgets": {
   "state": {
    "0026f067fc46455bbc0d3e16f2c7db63": {
     "views": []
    },
    "00e9e6a7489e4d6db846a14cda289d3c": {
     "views": []
    },
    "040600911de04ecc8d96a812ae67d885": {
     "views": []
    },
    "05d42f06685248ccb630f4811a625358": {
     "views": []
    },
    "06886a89f10d40dba6619036a7e5b2ad": {
     "views": []
    },
    "07dd49cbb91e4ccc8ba43573d2464460": {
     "views": []
    },
    "0968bf37b628435db6d41c9e985f45f0": {
     "views": []
    },
    "0ade5ff6b85b4fd28ac84fc24f4c4fb7": {
     "views": []
    },
    "0e2f56109da0463d920aef6466a0e01a": {
     "views": []
    },
    "0ec5e15b30d44574bda29cab13c5a68f": {
     "views": []
    },
    "0fbe84c3287240d3a5ec837ec9ba6cf8": {
     "views": []
    },
    "134b7c30c10d46d187b3792528e6c1b7": {
     "views": []
    },
    "13c298d33b3042289e86bb5dc018c34e": {
     "views": []
    },
    "141cc140831d4c36875e2f950f0ef002": {
     "views": []
    },
    "14313c414696411887474b18287ff684": {
     "views": []
    },
    "14ae0c3534f847f19e51c45fe443ffa2": {
     "views": []
    },
    "156f2acc22154c0da85dfbc22ff2bbd0": {
     "views": []
    },
    "15fbe9b2e04b4d4097b1ea5e684dd759": {
     "views": []
    },
    "192d92913d8b4a7592473c9e9b6e5e45": {
     "views": []
    },
    "199b98a990094434a21ef8401a25ed68": {
     "views": []
    },
    "1b0169df17324992b4d7612a603f69b2": {
     "views": []
    },
    "1da6d3f36b9f4b61b6a071e4b820814e": {
     "views": []
    },
    "210aacd943a548268750c824cec6ecec": {
     "views": []
    },
    "2202772d658d431aa1fe67d6fa47fc2b": {
     "views": []
    },
    "2390ddcf1f244627b687d51e58550bef": {
     "views": []
    },
    "244a7b16a6434fa9a867cd0f5d1be855": {
     "views": []
    },
    "24f674af0d0e4eee92a5ba751c9dc6ef": {
     "views": []
    },
    "268279af188947b39459ffa3c5e70d60": {
     "views": []
    },
    "26a5590ec55d46eea8bb81b75a71dac1": {
     "views": []
    },
    "26f44991ef28486685f89a767f241f2c": {
     "views": []
    },
    "275b304caddb497689e030fd721d4a83": {
     "views": []
    },
    "2764a93208514e688ae11eba67793269": {
     "views": []
    },
    "28d4c09525a54929841393ea4714b4c7": {
     "views": []
    },
    "29afc4a91e4e409f98cbb9d367af21c6": {
     "views": []
    },
    "29b459b0bfef4d73b972c470eb7346c1": {
     "views": []
    },
    "29bc96de28ef49fdae3a03c47f583559": {
     "views": []
    },
    "2a096fb899aa4f6490133f983b75a458": {
     "views": []
    },
    "2aa921aadc9d4ff4a4f6f7fc735e8d55": {
     "views": []
    },
    "2c2c5429ed0943fb812c84da2a427c26": {
     "views": []
    },
    "2c7e71915e7e4e138d446e6e11e87658": {
     "views": []
    },
    "2e98b6b8afc64a14a6069e2e2330c3a3": {
     "views": []
    },
    "2edf09969e354f00b6b5941cb6b5d6fa": {
     "views": []
    },
    "2ef0c44dbc4a4a8f9b57b3e60de3a2a7": {
     "views": []
    },
    "31b889febdcf431aaefdd5aa989601c8": {
     "views": []
    },
    "3321773d8e284f59bc7dde2698cddff3": {
     "views": []
    },
    "33f2d013bea649e4a1431735e1781321": {
     "views": []
    },
    "35269d07878947058d677d9686395dbb": {
     "views": []
    },
    "354759d1aa034e938322243182a0f6f9": {
     "views": []
    },
    "35c136b408144d39a992d2184aa93c9f": {
     "views": []
    },
    "35cb3f0a14464cc5bfcaf826772f9576": {
     "views": []
    },
    "37db0b206d384328ab747a3112f67a72": {
     "views": []
    },
    "3970dc20172343b99e379b26e43735a9": {
     "views": []
    },
    "39f69a86b54541d58ded4bd0be873f7b": {
     "views": []
    },
    "3a6ab94bd8fd45e1adb81f64b249b6f8": {
     "views": []
    },
    "3a6ee20279854c7ba050ee9b3c76fe3a": {
     "views": []
    },
    "3aa2333d75c1455bb895a33045882465": {
     "views": []
    },
    "3b4564cc20dc4d23a9fce424ce563859": {
     "views": []
    },
    "3baa7006f74c4cbf9959c887c90e2673": {
     "views": []
    },
    "3c55468be9c44856a36fd9eb211a7f34": {
     "views": []
    },
    "3cb024e2a9bb4b42a14256bdc21a336c": {
     "views": []
    },
    "3d3080a475f34d88b537f30f17bf5c51": {
     "views": []
    },
    "3e459ed57d4d4404bd706450fee60bd3": {
     "views": []
    },
    "42ed8685c8cb479f9da2ca408770ff36": {
     "views": []
    },
    "4305048610e6473da72266417699175c": {
     "views": []
    },
    "442e2ed63c724364ba9a6948c836803c": {
     "views": []
    },
    "44b47c4b419a4da6ba9a1948c63dba2f": {
     "views": []
    },
    "461c3063cddc4ceb92ee44827c2e4e31": {
     "views": []
    },
    "477e40d76c4f4e4d8bac4d514daa29d9": {
     "views": []
    },
    "478620c3b285454d97a598ad216ac907": {
     "views": []
    },
    "47c991de30964b0cb2ae5ff9187d4858": {
     "views": []
    },
    "4887c99f68354e96ae0946fdf34df4a1": {
     "views": []
    },
    "495c25d155ac4abc88b78c2d80c4cb13": {
     "views": []
    },
    "49c17d1fbc2a40efa0f18c978b159580": {
     "views": []
    },
    "4b719f686da04dae94f778f152556722": {
     "views": []
    },
    "4c501434af084d1f91894a03f291a353": {
     "views": []
    },
    "4d14b1a4600241c887430c08df736f03": {
     "views": []
    },
    "4d270ec2cfca40e4b99c2a6fe4a05154": {
     "views": []
    },
    "4d39f277e4014c6ca4ce8703625af6d4": {
     "views": []
    },
    "4d57b109548e4567bf188369c1435ff8": {
     "views": []
    },
    "4e731c26251a4970a69a6438d4a9d511": {
     "views": []
    },
    "4fb8bb552fc5438b9e36f7760cfaebc8": {
     "views": []
    },
    "518b3ab6bfbd4571825dcef9c934a5f1": {
     "views": []
    },
    "51b6ca3849e24771bc9261f4d6c14267": {
     "views": []
    },
    "524c687b6aa44fe0b34bfa5de93df26d": {
     "views": []
    },
    "527fee94739645bab30e17664cb31b18": {
     "views": []
    },
    "528afc0109fd47a4b0ed299544a42413": {
     "views": []
    },
    "52a6889c68c5417eb4fbc65ddc46d958": {
     "views": []
    },
    "5468f246a4674d01b55a30c6d6242eb5": {
     "views": []
    },
    "5599d7075286472a8f055f9a513b9f81": {
     "views": []
    },
    "55a24ccf88564cb08d1d4dd490b9d05a": {
     "views": []
    },
    "5821bb40aaf64f469894657ae95aed6f": {
     "views": []
    },
    "5901c3d8660f45a8919aa04fb2eea7ca": {
     "views": []
    },
    "5915749463324d0386b7be51f11cd3d4": {
     "views": []
    },
    "597b17a1790140789806bbdbfee44c78": {
     "views": []
    },
    "5c6da5152d04495fab4d458947312ec5": {
     "views": []
    },
    "5d36f22db9ee41c09a11b1895615fa44": {
     "views": []
    },
    "5dfd6b00355445a182790c0c7a9ce1ff": {
     "views": []
    },
    "5e7dc15bd6194e1dae1f0366967a5833": {
     "views": [
      {
       "cell_index": 4
      }
     ]
    },
    "5f4153b9267548c291b7429889a64c6a": {
     "views": []
    },
    "5f5470ff0d4e489ea25369c671aa31fc": {
     "views": []
    },
    "6008f2296dcd489999bdcb4fa1fe7aec": {
     "views": []
    },
    "606c04c3f449487e9397dcde77aacc6c": {
     "views": []
    },
    "6078842704a84a0991924c19245c8e0c": {
     "views": []
    },
    "60e1978fdb034bbba3e2a36eeb4a35da": {
     "views": []
    },
    "60f22837f0094e538e8eadb3daedb01a": {
     "views": []
    },
    "62e576e8924c4cf0abe8e7d9b284949e": {
     "views": []
    },
    "63e354a14f6b4cae9d485adaf7525c2d": {
     "views": []
    },
    "66e300b02b7741838875b60929908de3": {
     "views": []
    },
    "670f88ae0f534e9b9d74c777bcf88910": {
     "views": []
    },
    "67c15a9faad6445b9759362d51d55a7b": {
     "views": []
    },
    "68e14f214cd54ffe864ac4791ff5195b": {
     "views": []
    },
    "696341be42234ee399e4cfd986db4c00": {
     "views": []
    },
    "69bb6d23764149ffb6e7ae539b1b0661": {
     "views": []
    },
    "6a8801f617ae40c282b45533735bd2b5": {
     "views": []
    },
    "6aed439f0a0e448f8dba0b0236c80615": {
     "views": []
    },
    "6b0bdda1f96d44c680d86cf5e91480f6": {
     "views": []
    },
    "6cf7729ad89e47e7a8f023660cf1a1ce": {
     "views": []
    },
    "6e6a7d69d98f4a2c9f925a3497edf660": {
     "views": []
    },
    "6eb227a7d1ce441c82de83b1bf65595e": {
     "views": []
    },
    "6ec95206ad44432e826b2176a9b13e79": {
     "views": []
    },
    "6f806184b12a4f31bc45a109047f3df7": {
     "views": []
    },
    "703282e9acc04b568b803c02464b36de": {
     "views": []
    },
    "71331e658d2c432f8780810259787223": {
     "views": []
    },
    "716e84ff0b16480f91a4381e25e17f61": {
     "views": []
    },
    "71c47fcbc1ba4794b5c5f837e5db39ed": {
     "views": []
    },
    "752b2128371e4af49de3d85fb800a08a": {
     "views": []
    },
    "75b396ec941849829a090c5425c45cf3": {
     "views": []
    },
    "75cfe0f5400b42bf94375e453cc8e023": {
     "views": []
    },
    "7613e9796b404d40907b1dd0be631906": {
     "views": []
    },
    "76641bbabed04a5ab8e47c687c8b10f3": {
     "views": []
    },
    "76d51726b1d14d048660eec78af6fdd3": {
     "views": []
    },
    "790bc64e30fe45fe8b598ac10f26f5f1": {
     "views": []
    },
    "792d3abd589141ac9b2c6b653b189635": {
     "views": []
    },
    "7b85d79e74ba492794b82e472a72813d": {
     "views": []
    },
    "7c764126d18b46f0b233d7ba3d24d18a": {
     "views": []
    },
    "7ca5a55438f140868e6ec83d451169e3": {
     "views": []
    },
    "7d56f32ad7f14bfd945f6074b9351437": {
     "views": []
    },
    "7e7832613fd64235910327efd0b1ab74": {
     "views": []
    },
    "7f399d2fa6f54a2b88a3169cd43201ea": {
     "views": []
    },
    "7f741bc60e624d7aad6f161ea1ce7820": {
     "views": []
    },
    "7f95d62b85bd400ab22a3478ba41a4d4": {
     "views": []
    },
    "80504140bf234ae79767f1f0c8d8a76b": {
     "views": []
    },
    "8155bed554f84045907dc6c82a52569a": {
     "views": []
    },
    "83528a795a1142aab5452fa739a85ee7": {
     "views": []
    },
    "8367b6d1ff084f4fbd86289f1d0a0ea2": {
     "views": []
    },
    "844bbb237c32450c916ad9d916d1bd5b": {
     "views": []
    },
    "84f7dc546edd42d18a8cd89c89f0d09b": {
     "views": []
    },
    "857e608951b54239b9c2f77a9b4b0e4c": {
     "views": []
    },
    "87859fa594f14c66aa328cca4ce0ae90": {
     "views": []
    },
    "87bfba3197d14d19a2234b1ff1311a5a": {
     "views": []
    },
    "89b2dd0bb72442f2b03c65eee4d3be80": {
     "views": []
    },
    "8cdf76ec31414e12afd75ba5276ebcc8": {
     "views": []
    },
    "8d158d9e97034dc591993464240442af": {
     "views": []
    },
    "8e23e95e24614839bccabbae06b66ed1": {
     "views": []
    },
    "8e34b4657e8c45b6a99ace2ae72c94e2": {
     "views": []
    },
    "8e3953c3fd09462a86b8466640fc0e9e": {
     "views": []
    },
    "8e73e86361c84938a5585c3ae202e048": {
     "views": []
    },
    "8f92e9f665b649ab84f7afd6f4cc1b8a": {
     "views": []
    },
    "8fadd01bff5647eb93e38363b959d5b7": {
     "views": []
    },
    "8ff880ac8cc84284a2a3f4eb1086298c": {
     "views": []
    },
    "90715a38dda24232aea1ce5dabf7b333": {
     "views": []
    },
    "90e695eceae14d0aa3390a39c02145ac": {
     "views": []
    },
    "92633709f1894cd99564b81cb0b5b48d": {
     "views": []
    },
    "93798db59b8f4165b1645e4300bc53ba": {
     "views": []
    },
    "948b75249ebb4909ad64d2ac877cfdf9": {
     "views": []
    },
    "95db0310fae048e9b4502b938a488b49": {
     "views": []
    },
    "977c0d9ee2a6499a95d48f4acf3c3c18": {
     "views": []
    },
    "97900fd00ee44f2e8594f176a2af171a": {
     "views": []
    },
    "98625ad8d88f4c97bc7b7b49d90c4d83": {
     "views": []
    },
    "9873f10a54644c55b1b584347728b4b0": {
     "views": []
    },
    "99398b4509c54058a9ef07c6b3b98160": {
     "views": []
    },
    "994d184ab7cc4f5b8fa1be6d809271ed": {
     "views": []
    },
    "99f72c311d464774a80563a8dbe69dde": {
     "views": []
    },
    "9cae5f548bb442c297f668d440147dc6": {
     "views": []
    },
    "9d66a309afe74f098dbeb5157034d20c": {
     "views": []
    },
    "9e4650613d8242c19b11add3e5b1fd6b": {
     "views": []
    },
    "9ead17c07c5241d48c37a0b67e5193ee": {
     "views": []
    },
    "a1114f4f7d644792b4aa70d598a5b5c4": {
     "views": []
    },
    "a14ddbf0205d445c92ae710464639524": {
     "views": []
    },
    "a1cc1954504c4218af6e6df6d117ebbf": {
     "views": []
    },
    "a20ad8cf210a4ca6a7d09ccd995cb28d": {
     "views": []
    },
    "a4ca750c42354b3eb28e4f6f497f540d": {
     "views": []
    },
    "a7c65c400c9043df8c928372bc32845e": {
     "views": []
    },
    "a89a761c9c8f4154aa84579c44319eb8": {
     "views": []
    },
    "a8ec1769aa7a4e549ef56a19b6c31271": {
     "views": []
    },
    "ab7ffa3a68bc4b1187bae4142f79019d": {
     "views": []
    },
    "ac017844731f40c09caf1bab482a3b91": {
     "views": []
    },
    "ad3bb926e7494ad9a43721fec6eaba4c": {
     "views": []
    },
    "adb33711e5d64404a9ffb42471be43da": {
     "views": []
    },
    "adc4271532474fd0bf1b9e8719f7fc16": {
     "views": []
    },
    "afa9f18b51c94d6a86f08248b2641800": {
     "views": []
    },
    "b09113e02e71425f9d2ed265234ed34b": {
     "views": []
    },
    "b091781f571844a591cc52ad7d686d1e": {
     "views": []
    },
    "b0d68ee1b7c44deaaed47cf78c17fdc7": {
     "views": []
    },
    "b1f4cabb75c5418d961e447d225cbdf9": {
     "views": []
    },
    "b336368399af419d8639f3fed49b777d": {
     "views": []
    },
    "b39daea8a073453fb35f4d8393ea49e7": {
     "views": []
    },
    "b584300a061745c5a30c5d532ac78b1e": {
     "views": []
    },
    "b5cc45bf78234cb7bdb886e6a549c424": {
     "views": []
    },
    "b5d032a0a220492188ca0f115a9fd424": {
     "views": []
    },
    "b5fccc9913634d07a77f347e8af8a7e5": {
     "views": []
    },
    "b64d26f22b1a4685ac6c734ab3729195": {
     "views": []
    },
    "b68134721324454f8bb1a7cc50ad99f6": {
     "views": []
    },
    "b9f56ed9f7404a2aa5fb1bd57b6671ca": {
     "views": []
    },
    "b9ff267f677f460589f3d5264ccd1dd6": {
     "views": []
    },
    "ba5b605296cd4d7e87c3fb8839c85047": {
     "views": []
    },
    "bb61b614deef47dcb0a18c93b1dfa1b5": {
     "views": []
    },
    "bc6bf5bafa8241788a04d483df92d9ee": {
     "views": []
    },
    "bd1ed5ec183e443594d360cfdf4ff37c": {
     "views": []
    },
    "c7676339f9b246d5b87bce6b41cc6831": {
     "views": []
    },
    "c7b4e8c9c4114d77a4b0598151259d0d": {
     "views": []
    },
    "c884ea5535c24c43b09f03dffa451b3f": {
     "views": []
    },
    "cb419185276b43b0a0a11571023cb48e": {
     "views": []
    },
    "cd213266e99042aeab2c24ed0c3cc004": {
     "views": []
    },
    "cdc6a272383f487492dd5b482c02b534": {
     "views": []
    },
    "ce6d0a9452464cfabcde24f75217a48e": {
     "views": []
    },
    "cea3fd3eca874d5681901a6a098ef21f": {
     "views": []
    },
    "cecc3a8c2395411694fe12d0b9baa462": {
     "views": []
    },
    "cfeebd0ed8df4fbc8f6bee55d0cd593e": {
     "views": []
    },
    "d00e0a42c5524c67b1c1e94f56c99537": {
     "views": []
    },
    "d1b7190bd3cb40a181b9e6c2101296ba": {
     "views": []
    },
    "d26a1d5194ad47459b66cf6abcc7a0e5": {
     "views": []
    },
    "d2f18c1e58354845a49b355d5e52ebe6": {
     "views": []
    },
    "d3400e3c5e1e4ac4ba87219985766b58": {
     "views": []
    },
    "d3b66c331bad46b58c75db17abc6ff04": {
     "views": []
    },
    "d57555e2a8884bbd8545372957e0daff": {
     "views": []
    },
    "d5d441fc3972435196857cd63ed7ba96": {
     "views": []
    },
    "d667ae5c976a4ccabdec291b5c1a3ef4": {
     "views": []
    },
    "d7330903f3394e02948a111d8313a5a5": {
     "views": []
    },
    "d80f23b8cff74f929dd9def1eabbd371": {
     "views": []
    },
    "d8bc7693d35a42bcb0fa4f840e5a6082": {
     "views": []
    },
    "d975059b9e9c42d4ad3952127ee48bda": {
     "views": []
    },
    "da0861547b7140ce816381659ab67482": {
     "views": []
    },
    "da50053ccbed4ab1ab5c636865a2141b": {
     "views": []
    },
    "dbf687465a484abdb9dca5fdd40b2487": {
     "views": []
    },
    "dc1ddfbc1846473984dbb823c6ddc1dd": {
     "views": []
    },
    "dc83b97321a54efb9c30d98975aad8cb": {
     "views": []
    },
    "dcd1d6e6d5ed48c394c05cb51d0f5e4b": {
     "views": []
    },
    "dd8748b4fd5a443ca6f047ae1161f7e4": {
     "views": []
    },
    "e0c2bd69fd7746eab70228d7a433e9f2": {
     "views": []
    },
    "e150a6794fc94f3c8ac2d4c23ab3d70d": {
     "views": []
    },
    "e26cee03e96e432db44cd2ab12f9e9da": {
     "views": []
    },
    "e2fdce32408e4eaeada46c5928c27208": {
     "views": []
    },
    "e40390a863c74d44a2473680bb3a800c": {
     "views": []
    },
    "e43de84ede0f41b684901366bc0f038a": {
     "views": []
    },
    "e45e568553034aa89eb78edeea8e5709": {
     "views": []
    },
    "e46c32f9c15340369ef7e879cecf6d24": {
     "views": []
    },
    "e4b3268c204b433dae788066310f38dd": {
     "views": []
    },
    "e4d2551938ae47dda22bc3ef23a7a6c4": {
     "views": [
      {
       "cell_index": 5
      }
     ]
    },
    "e4e1d2eb95cb493b8cf61c00249d7b74": {
     "views": []
    },
    "e4f27ecc0bea43bebae8eec949e77ac7": {
     "views": []
    },
    "e581947f190a402fa149b398e7bc3cb4": {
     "views": []
    },
    "e9ac25a72eb34fe091d767be8e463b04": {
     "views": []
    },
    "ea1ca5ca97e04c5fb4ab896c96ebc882": {
     "views": []
    },
    "eb89fbc513bf44a18babfa71a2395267": {
     "views": []
    },
    "ec898b00352a4887a6f425c1514bac4e": {
     "views": []
    },
    "ed5a00f53a924427acd00b6e015de65b": {
     "views": []
    },
    "edcdb829a2f3447989e3342d94704b58": {
     "views": []
    },
    "eee1309703374351a8831e1c90e655d6": {
     "views": []
    },
    "f122369e157c4e2484c3091df6c23d3a": {
     "views": []
    },
    "f2be9189e77e43acbd333ad2f90a6f09": {
     "views": []
    },
    "f32f18044c1e486cb6b4c631d586cc3a": {
     "views": []
    },
    "f3503e75180c48a3bf3e39bbf38c521b": {
     "views": []
    },
    "f57f4412b1f14191ae86517173a35d04": {
     "views": []
    },
    "f6384b03a8ad45de8a1f58caa470fd1f": {
     "views": []
    },
    "f98fc092a7a441fbab21385bdf465052": {
     "views": []
    },
    "f99dd6a5aef64a178a2f3990465a60f0": {
     "views": []
    },
    "fad13cbdaf5d4f45b208abf442bff111": {
     "views": []
    },
    "fc315fd797374b7f8967793c9688cffa": {
     "views": []
    },
    "fc5664f419cc49bdbd929d0a247c81c0": {
     "views": []
    },
    "fce7c1bd50d34ba792aaa337d99de589": {
     "views": []
    },
    "fcf24eba4dcd44feb217f6c2dd8bf427": {
     "views": []
    },
    "fd83a829d2204dcfaaa7b16df87bc0e0": {
     "views": []
    },
    "fdb2c5eb20d04463a946ff97fc10dd94": {
     "views": []
    },
    "ff52f532789f4fe59395606905d540b9": {
     "views": []
    },
    "ff74432cc2d2471fb545b62182cc6d8e": {
     "views": []
    }
   },
   "version": "1.1.1"
  }
 },
 "nbformat": 4,
 "nbformat_minor": 0
}
